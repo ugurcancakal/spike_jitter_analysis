{
  "nbformat": 4,
  "nbformat_minor": 0,
  "metadata": {
    "colab": {
      "name": "spike_jitter.ipynb adlı not defterinin kopyası",
      "provenance": [],
      "authorship_tag": "ABX9TyPJocHmAcowymzxMs0ROBlC",
      "include_colab_link": true
    },
    "kernelspec": {
      "name": "python3",
      "display_name": "Python 3"
    }
  },
  "cells": [
    {
      "cell_type": "markdown",
      "metadata": {
        "id": "view-in-github",
        "colab_type": "text"
      },
      "source": [
        "<a href=\"https://colab.research.google.com/github/ugurcancakal/spike_jitter_analysis/blob/master/spike_jitter.ipynb\" target=\"_parent\"><img src=\"https://colab.research.google.com/assets/colab-badge.svg\" alt=\"Open In Colab\"/></a>"
      ]
    },
    {
      "cell_type": "markdown",
      "metadata": {
        "id": "AjsLCEGCKCHs",
        "colab_type": "text"
      },
      "source": [
        "# Prerequisites"
      ]
    },
    {
      "cell_type": "code",
      "metadata": {
        "id": "_Fzjj5BlELbF",
        "colab_type": "code",
        "cellView": "form",
        "colab": {}
      },
      "source": [
        "# @title Import\n",
        "import numpy as np\n",
        "\n",
        "# Import matplotlib and set defaults\n",
        "from matplotlib import rcParams \n",
        "from matplotlib import pyplot as plt\n",
        "rcParams['figure.figsize'] = [20, 4]\n",
        "rcParams['font.size'] =15\n",
        "rcParams['axes.spines.top'] = False\n",
        "rcParams['axes.spines.right'] = False\n",
        "rcParams['figure.autolayout'] = True"
      ],
      "execution_count": 1,
      "outputs": []
    },
    {
      "cell_type": "markdown",
      "metadata": {
        "id": "oWC2HlzpKivC",
        "colab_type": "text"
      },
      "source": [
        "## Either Continuous Spike Time"
      ]
    },
    {
      "cell_type": "code",
      "metadata": {
        "id": "W1KDR1LyIx2e",
        "colab_type": "code",
        "cellView": "form",
        "colab": {}
      },
      "source": [
        "#@title Data retrieval : Continuous Spike Time \n",
        "import os, requests\n",
        "\n",
        "fname = ['steinmetz_st.npz']\n",
        "\n",
        "url = [\"https://osf.io/4bjns/download\"]\n",
        "\n",
        "for j in range(len(url)):\n",
        "  if not os.path.isfile(fname[j]):\n",
        "    try:\n",
        "      r = requests.get(url[j])\n",
        "    except requests.ConnectionError:\n",
        "      print(\"!!! Failed to download data !!!\")\n",
        "    else:\n",
        "      if r.status_code != requests.codes.ok:\n",
        "        print(\"!!! Failed to download data !!!\")\n",
        "      else:\n",
        "        with open(fname[j], \"wb\") as fid:\n",
        "          fid.write(r.content)"
      ],
      "execution_count": 2,
      "outputs": []
    },
    {
      "cell_type": "code",
      "metadata": {
        "id": "UBkqIDsvJEbv",
        "colab_type": "code",
        "cellView": "form",
        "colab": {
          "base_uri": "https://localhost:8080/",
          "height": 34
        },
        "outputId": "a9b5539e-3115-4ef1-f0f5-846e9ba3e7e9"
      },
      "source": [
        "#@title Data loading -- Continuous Spike Time\n",
        "import numpy as np\n",
        "dat_ST = np.load('steinmetz_st.npz', allow_pickle=True)['dat']\n",
        "\n",
        "# select just one of the recordings here. 11 is nice because it has some neurons in vis ctx. \n",
        "dat_ST = dat_ST[11]\n",
        "print(dat_ST.keys())"
      ],
      "execution_count": 3,
      "outputs": [
        {
          "output_type": "stream",
          "text": [
            "dict_keys(['ss', 'ss_passive'])\n"
          ],
          "name": "stdout"
        }
      ]
    },
    {
      "cell_type": "markdown",
      "metadata": {
        "id": "5K7UT7dyj_6R",
        "colab_type": "text"
      },
      "source": [
        "`dat_LFP`, `dat_WAV`, `dat_ST` contain 39 sessions from 10 mice, data from Steinmetz et al, 2019, supplemental to the main data provided for NMA. Time bins for all measurements are 10ms, starting 500ms before stimulus onset (same as the main data). The followin fields are available in dat. \n",
        "\n",
        "* `dat['ss']`: neurons by trials. Exact spikes times for each neuron and each trial, reference to the stimulus onset. A (neuron,trial) entry can be an empty list if that neuron did not fire at all on that trial. \n",
        "* `dat['%X%_passive']`: same as above for `X` = {`lfp`, `ss`} but for  passive trials at the end of the recording when the mouse was no longer engaged and stopped making responses. \n",
        "\n",
        "\n"
      ]
    },
    {
      "cell_type": "markdown",
      "metadata": {
        "id": "XLRNlfdtKpaa",
        "colab_type": "text"
      },
      "source": [
        "## Or Raw Spike Data"
      ]
    },
    {
      "cell_type": "code",
      "metadata": {
        "id": "Xdf6moqJVSVt",
        "colab_type": "code",
        "cellView": "form",
        "colab": {}
      },
      "source": [
        "#@title Data retrieval -- Raw Spike\n",
        "import os, requests\n",
        "\n",
        "fname = []\n",
        "for j in range(3):\n",
        "  fname.append('steinmetz_part%d.npz'%j)\n",
        "url = [\"https://osf.io/agvxh/download\"]\n",
        "url.append(\"https://osf.io/uv3mw/download\")\n",
        "url.append(\"https://osf.io/ehmw2/download\")\n",
        "\n",
        "for j in range(len(url)):\n",
        "  if not os.path.isfile(fname[j]):\n",
        "    try:\n",
        "      r = requests.get(url[j])\n",
        "    except requests.ConnectionError:\n",
        "      print(\"!!! Failed to download data !!!\")\n",
        "    else:\n",
        "      if r.status_code != requests.codes.ok:\n",
        "        print(\"!!! Failed to download data !!!\")\n",
        "      else:\n",
        "        with open(fname[j], \"wb\") as fid:\n",
        "          fid.write(r.content)\n"
      ],
      "execution_count": null,
      "outputs": []
    },
    {
      "cell_type": "code",
      "metadata": {
        "id": "v8lgZBe6VWEu",
        "colab_type": "code",
        "cellView": "form",
        "colab": {
          "base_uri": "https://localhost:8080/"
        },
        "outputId": "93041ac1-1a7d-4e7d-a2f1-2f6e175e30a1"
      },
      "source": [
        "#@title Data loading -- Raw Spike\n",
        "import numpy as np\n",
        "\n",
        "alldat = np.array([])\n",
        "for j in range(len(fname)):\n",
        "  alldat = np.hstack((alldat, np.load('steinmetz_part%d.npz'%j, allow_pickle=True)['dat']))\n",
        "\n",
        "# select just one of the recordings here. 11 is nice because it has some neurons in vis ctx. \n",
        "dat = alldat[11]\n",
        "print(dat.keys())"
      ],
      "execution_count": null,
      "outputs": [
        {
          "output_type": "stream",
          "text": [
            "dict_keys(['spks', 'wheel', 'pupil', 'response', 'response_time', 'bin_size', 'stim_onset', 'contrast_right', 'contrast_left', 'brain_area', 'feedback_time', 'feedback_type', 'gocue', 'mouse_name', 'date_exp', 'trough_to_peak', 'active_trials', 'contrast_left_passive', 'contrast_right_passive', 'spks_passive', 'pupil_passive', 'wheel_passive', 'prev_reward', 'ccf', 'ccf_axes', 'cellid_orig', 'reaction_time', 'face', 'face_passive', 'licks', 'licks_passive'])\n"
          ],
          "name": "stdout"
        }
      ]
    },
    {
      "cell_type": "markdown",
      "metadata": {
        "colab_type": "text",
        "id": "XzCA1Su3J5Rj"
      },
      "source": [
        "`alldat` contains 39 sessions from 10 mice, data from Steinmetz et al, 2019. Time bins for all measurements are 10ms, starting 500ms before stimulus onset. The mouse had to determine which side has the highest contrast. For each `dat = alldat[k]`, you have the fields below. For extra variables, check out the extra notebook and extra data files (lfp, waveforms and exact spike times, non-binned). \n",
        "\n",
        "* `dat['mouse_name']`: mouse name\n",
        "* `dat['date_exp']`: when a session was performed\n",
        "* `dat['spks']`: neurons by trials by time bins.    \n",
        "* `dat['brain_area']`: brain area for each neuron recorded. \n",
        "* `dat['ccf']`: Allen Institute brain atlas coordinates for each neuron. \n",
        "* `dat['ccf_axes']`: axes names for the Allen CCF. \n",
        "* `dat['contrast_right']`: contrast level for the right stimulus, which is always contralateral to the recorded brain areas.\n",
        "* `dat['contrast_left']`: contrast level for left stimulus. \n",
        "* `dat['gocue']`: when the go cue sound was played. \n",
        "* `dat['response_times']`: when the response was registered, which has to be after the go cue. The mouse can turn the wheel before the go cue (and nearly always does!), but the stimulus on the screen won't move before the go cue.  \n",
        "* `dat['response']`: which side the response was (`-1`, `0`, `1`). When the right-side stimulus had higher contrast, the correct choice was `-1`. `0` is a no go response. \n",
        "* `dat['feedback_time']`: when feedback was provided. \n",
        "* `dat['feedback_type']`: if the feedback was positive (`+1`, reward) or negative (`-1`, white noise burst).  \n",
        "* `dat['wheel']`: turning speed of the wheel that the mice uses to make a response, sampled at `10ms`. \n",
        "* `dat['pupil']`: pupil area  (noisy, because pupil is very small) + pupil horizontal and vertical position.\n",
        "* `dat['face']`: average face motion energy from a video camera. \n",
        "* `dat['licks']`: lick detections, 0 or 1.   \n",
        "* `dat['trough_to_peak']`: measures the width of the action potential waveform for each neuron. Widths `<=10` samples are \"putative fast spiking neurons\". \n",
        "* `dat['%X%_passive']`: same as above for `X` = {`spks`, `pupil`, `wheel`, `contrast_left`, `contrast_right`} but for  passive trials at the end of the recording when the mouse was no longer engaged and stopped making responses. \n",
        "* `dat['prev_reward']`: time of the feedback (reward/white noise) on the previous trial in relation to the current stimulus time. \n",
        "* `dat['reaction_time']`: ntrials by 2. First column: reaction time computed from the wheel movement as the first sample above `5` ticks/10ms bin. Second column: direction of the wheel movement (`0` = no move detected).  \n",
        "\n",
        "\n"
      ]
    },
    {
      "cell_type": "markdown",
      "metadata": {
        "id": "y_OplZiQKQBj",
        "colab_type": "text"
      },
      "source": [
        "# Function Implementations"
      ]
    },
    {
      "cell_type": "code",
      "metadata": {
        "id": "OvxDhkzP4sZz",
        "colab_type": "code",
        "cellView": "both",
        "colab": {
          "base_uri": "https://localhost:8080/",
          "height": 286
        },
        "outputId": "2296d82f-a64b-4a3b-846c-49d1acdb6f99"
      },
      "source": [
        "def spike_count(reference, target, synch_width):\n",
        "  '''Compute the number of spikes within the [-w,w] interval\n",
        "\n",
        "    Args:\n",
        "      reference(1D float array): exact spike times of the reference neuron\n",
        "      target(1D float array): exact spike times of the target neuron\n",
        "      synch_width (int): absolute value of w in miliseconds to construct [-w,w]\n",
        "\n",
        "    Returns:\n",
        "      number of spikes (int): Number of spikes within the synch_width \n",
        "\n",
        "    NOTES:\n",
        "    * For now, the interval has thought to be symmetric with respect to origin \n",
        "      but in case it's desired, it could be modified to support [lower, upper] \n",
        "      definition.\n",
        "    \n",
        "    * The shapes of the reference and target neuron recordings does not need to \n",
        "      match. If it creates problems, instead of using 1D float arrays, there is \n",
        "      a chance to use the raw spike recording which are 1D boolean arrays \n",
        "      guaranteed to have the same shape.\n",
        "    @ugurc\n",
        "  '''\n",
        "  r = 0\n",
        "  t = 0\n",
        "  num_spikes = 0\n",
        "\n",
        "  while r<len(reference):\n",
        "    if t<len(target):\n",
        "      if check_synch(reference[r], target[t], synch_width):\n",
        "        num_spikes+=1\n",
        "      if target[t]>(reference[r]+synch_width):\n",
        "        # A reference spike may be synched with multiple target spikes\n",
        "        r+=1\n",
        "        if r<len(reference):\n",
        "          # A target spike may be synched with multiple reference spikes\n",
        "          while target[t]>(reference[r]-synch_width):\n",
        "            if t>0:\n",
        "              t-=1\n",
        "            else:\n",
        "              break\n",
        "      else:\n",
        "        t+=1\n",
        "    else:\n",
        "      break\n",
        "\n",
        "def check_synch(reference, target, synch_width):\n",
        "  '''\n",
        "  '''\n",
        "  if (abs(reference-target)<synch_width):\n",
        "    print(\"REFERENCE: \", reference)\n",
        "    print(\"TARGET: \", target)\n",
        "    return 1\n",
        "  else:\n",
        "    return 0\n",
        "\n",
        "ref = dat_ST['ss'][87,50]\n",
        "tar = dat_ST['ss'][145,50]\n",
        "synch_width = .05 # in sec\n",
        "# Multiple Target Spikes\n",
        "print(\"\\nMultiple Target Spikes\")\n",
        "spike_count(ref,tar,synch_width)\n",
        "\n",
        "#Multiple Reference Spikes\n",
        "print(\"\\nMultiple Reference Spikes\")\n",
        "spike_count(tar,ref,synch_width)"
      ],
      "execution_count": 58,
      "outputs": [
        {
          "output_type": "stream",
          "text": [
            "\n",
            "Multiple Target Spikes\n",
            "REFERENCE:  1.7849146\n",
            "TARGET:  1.8035812\n",
            "REFERENCE:  1.7849146\n",
            "TARGET:  1.8253813\n",
            "REFERENCE:  1.7849146\n",
            "TARGET:  1.8310146\n",
            "\n",
            "Multiple Reference Spikes\n",
            "REFERENCE:  1.8035812\n",
            "TARGET:  1.7849146\n",
            "REFERENCE:  1.8253813\n",
            "TARGET:  1.7849146\n",
            "REFERENCE:  1.8310146\n",
            "TARGET:  1.7849146\n"
          ],
          "name": "stdout"
        }
      ]
    },
    {
      "cell_type": "code",
      "metadata": {
        "id": "yBOJm78Q8Zqf",
        "colab_type": "code",
        "cellView": "both",
        "colab": {}
      },
      "source": [
        "def synchrony_analysis(region, synch_width):\n",
        "  '''Analyse the synchrony between the neurons in a given region\n",
        "\n",
        "    Args:\n",
        "      region(1D array of numpy arrays): array of numpy arrays consisting of spike \n",
        "        time arrays of neurons in a given region.\n",
        "      synch_width (int): absolute value of w in miliseconds to construct [-w,w]\n",
        "\n",
        "    Returns:\n",
        "      num_spikes(2D matrix): a matrix consisting of respective spike\n",
        "        times between two neurons [target][reference]\n",
        "    \n",
        "    NOTES:\n",
        "      * In the region structure, numpy arrays might have different shapes.\n",
        "\n",
        "      * If it's hard to deal with sparse spike time, instead of using 1D float \n",
        "        arrays, there is a chance to use the raw spike recording which are 1D \n",
        "        boolean arrays guaranteed to have the same shape.\n",
        "\n",
        "      * If width has chosen to be symmetric([w-,w]), there is no need to keep \n",
        "        track of [target][reference] and [reference][target] cells separately.\n",
        "        Also, there is no need to analyze if the neuron has a correspondence \n",
        "        with itself. It eliminates the need for diagonal entries like ([1][1]). \n",
        "        Therefore, the num_spikes matrix has implemented as an upper diagonal \n",
        "        matrix. If we would like to keep track of succeeding and preceding \n",
        "        neurons information, [0,w_positive] and [w_negative,0] intervals need to \n",
        "        be analyzed separately. In that case, instead of an upper triangular \n",
        "        matrix, we would need to generate two full matrices. One for \n",
        "        [0,w_positive] interval and one for [w_negative,0] interval.\n",
        "    @ugurc\n",
        "  '''\n",
        "  breath = len(range)\n",
        "  num_spikes = np.zeros((breath,breath))\n",
        "\n",
        "  for i in range(breath):\n",
        "    for j in range(i+1, breath):\n",
        "      num_spikes[i][j] = spike_jitter(range[i], range[j], synch_width)\n"
      ],
      "execution_count": null,
      "outputs": []
    },
    {
      "cell_type": "code",
      "metadata": {
        "id": "F5h2-yUnLCLa",
        "colab_type": "code",
        "cellView": "both",
        "colab": {}
      },
      "source": [
        "def raster_plot(spike_times, neurons_of_interest):\n",
        "  '''Creates a raster plot of given spike times and neruons of interest\n",
        "\n",
        "  Args:\n",
        "    spike_times(1D array of numpy arrays): array of numpy arrays consisting of \n",
        "      spike time arrays of neurons.\n",
        "    neurons_of_interest(1D array): an array of neuron indexes to be presented \n",
        "      in the raster plot\n",
        "  @ugurc\n",
        "  '''\n",
        "\n",
        "  plt.eventplot(spike_times[neuron_idx], color=\".2\")\n",
        "  plt.xlabel(\"Time (s)\")\n",
        "  plt.show()"
      ],
      "execution_count": 5,
      "outputs": []
    },
    {
      "cell_type": "markdown",
      "metadata": {
        "id": "Y8b6ZWYDLvm6",
        "colab_type": "text"
      },
      "source": [
        "# Tests"
      ]
    },
    {
      "cell_type": "code",
      "metadata": {
        "id": "SukkCoi3LulF",
        "colab_type": "code",
        "cellView": "form",
        "colab": {
          "base_uri": "https://localhost:8080/",
          "height": 185
        },
        "outputId": "a6c3205b-0dd5-4241-faf8-ec07bc0a6638"
      },
      "source": [
        "# @title Generating Upper Triangular Matrix\n",
        "import numpy as np\n",
        "test = np.zeros((10,10))\n",
        "for i in range(10):\n",
        "  for j in range(i+1, 10):\n",
        "    test[i][j] = 1\n",
        "\n",
        "print(test)"
      ],
      "execution_count": null,
      "outputs": [
        {
          "output_type": "stream",
          "text": [
            "[[0. 1. 1. 1. 1. 1. 1. 1. 1. 1.]\n",
            " [0. 0. 1. 1. 1. 1. 1. 1. 1. 1.]\n",
            " [0. 0. 0. 1. 1. 1. 1. 1. 1. 1.]\n",
            " [0. 0. 0. 0. 1. 1. 1. 1. 1. 1.]\n",
            " [0. 0. 0. 0. 0. 1. 1. 1. 1. 1.]\n",
            " [0. 0. 0. 0. 0. 0. 1. 1. 1. 1.]\n",
            " [0. 0. 0. 0. 0. 0. 0. 1. 1. 1.]\n",
            " [0. 0. 0. 0. 0. 0. 0. 0. 1. 1.]\n",
            " [0. 0. 0. 0. 0. 0. 0. 0. 0. 1.]\n",
            " [0. 0. 0. 0. 0. 0. 0. 0. 0. 0.]]\n"
          ],
          "name": "stdout"
        }
      ]
    },
    {
      "cell_type": "code",
      "metadata": {
        "id": "vwp7Akc_L0Bl",
        "colab_type": "code",
        "cellView": "both",
        "colab": {
          "base_uri": "https://localhost:8080/",
          "height": 229
        },
        "outputId": "b2fd4c00-679b-4a6d-c655-5223835f4899"
      },
      "source": [
        "# @title Raster Plot\n",
        "# !!! Retrieve and load the continuous spike time data first\n",
        "\n",
        "neuron_idx = np.arange(0, len(dat_ST['ss'][:,50]), 1)\n",
        "# neuron_idx = 87\n",
        "raster_plot(dat_ST['ss'][:,50], neuron_idx)"
      ],
      "execution_count": null,
      "outputs": [
        {
          "output_type": "display_data",
          "data": {
            "image/png": "[encoded data removed]",
            "text/plain": [
              "<Figure size 1440x288 with 1 Axes>"
            ]
          },
          "metadata": {
            "tags": [],
            "needs_background": "light"
          }
        }
      ]
    },
    {
      "cell_type": "code",
      "metadata": {
        "id": "dq39mILmBgIt",
        "colab_type": "code",
        "colab": {
          "base_uri": "https://localhost:8080/",
          "height": 448
        },
        "outputId": "53365c7c-715f-4fb3-cf4d-3353ee95250b"
      },
      "source": [
        "# @title Spike Count\n",
        "reference = dat_ST['ss'][87,50]\n",
        "target = dat_ST['ss'][145,50]\n",
        "synch_width = 500 # in msec\n",
        "\n",
        "# For visual investigation\n",
        "neuron_idx = [145,87]\n",
        "raster_plot(dat_ST['ss'][:,50], neuron_idx)\n",
        "print(reference)\n",
        "print(target)\n",
        "# ---------------------------------------\n",
        "\n",
        "spike_count(reference, target, synch_width)"
      ],
      "execution_count": 14,
      "outputs": [
        {
          "output_type": "display_data",
          "data": {
            "image/png": "[encoded data removed]",
            "text/plain": [
              "<Figure size 432x288 with 1 Axes>"
            ]
          },
          "metadata": {
            "tags": [],
            "needs_background": "light"
          }
        },
        {
          "output_type": "stream",
          "text": [
            "[0.08044791 1.404648   1.7849146  2.4689813 ]\n",
            "[1.1145817e-03 5.0188124e-01 5.4424793e-01 5.5074793e-01 5.8011460e-01\n",
            " 6.0658127e-01 6.2778127e-01 6.8934792e-01 7.0194793e-01 7.0601457e-01\n",
            " 7.8301460e-01 1.0154146e+00 1.0182812e+00 1.0235479e+00 1.5318812e+00\n",
            " 1.5356812e+00 1.8035812e+00 1.8253813e+00 1.8310146e+00 1.8441813e+00\n",
            " 1.8464479e+00 1.8730812e+00 1.8761146e+00 1.8810480e+00 1.8837479e+00\n",
            " 1.8864145e+00 1.9375479e+00 2.0286479e+00 2.0348814e+00 2.0440147e+00\n",
            " 2.0463812e+00 2.0573480e+00 2.0604479e+00 2.2124813e+00 2.2169480e+00\n",
            " 2.3846478e+00]\n"
          ],
          "name": "stdout"
        }
      ]
    }
  ]
}
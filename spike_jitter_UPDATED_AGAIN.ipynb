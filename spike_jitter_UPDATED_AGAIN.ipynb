{
  "nbformat": 4,
  "nbformat_minor": 0,
  "metadata": {
    "colab": {
      "name": "spike_jitter_UPD.ipynb adlı not defterinin kopyası adlı not defterinin kopyası",
      "provenance": [],
      "collapsed_sections": [],
      "toc_visible": true,
      "include_colab_link": true
    },
    "kernelspec": {
      "name": "python3",
      "display_name": "Python 3"
    }
  },
  "cells": [
    {
      "cell_type": "markdown",
      "metadata": {
        "id": "view-in-github",
        "colab_type": "text"
      },
      "source": [
        "<a href=\"https://colab.research.google.com/github/ugurcancakal/spike_jitter_analysis/blob/master/spike_jitter_UPDATED_AGAIN.ipynb\" target=\"_parent\"><img src=\"https://colab.research.google.com/assets/colab-badge.svg\" alt=\"Open In Colab\"/></a>"
      ]
    },
    {
      "cell_type": "markdown",
      "metadata": {
        "id": "AjsLCEGCKCHs",
        "colab_type": "text"
      },
      "source": [
        "# Prerequisites"
      ]
    },
    {
      "cell_type": "code",
      "metadata": {
        "id": "_Fzjj5BlELbF",
        "colab_type": "code",
        "cellView": "both",
        "colab": {
          "base_uri": "https://localhost:8080/",
          "height": 72
        },
        "outputId": "ab1b911d-ae95-4258-cc90-5dbecaed24eb"
      },
      "source": [
        "# @title Import\n",
        "import numpy as np\n",
        "import seaborn as sns\n",
        "import itertools\n",
        "import pickle\n",
        "# Import matplotlib and set defaults\n",
        "from matplotlib import rcParams \n",
        "from matplotlib import pyplot as plt\n",
        "rcParams['figure.figsize'] = [20, 4]\n",
        "rcParams['font.size'] =15\n",
        "rcParams['axes.spines.top'] = False\n",
        "rcParams['axes.spines.right'] = False\n",
        "rcParams['figure.autolayout'] = True"
      ],
      "execution_count": 1,
      "outputs": [
        {
          "output_type": "stream",
          "text": [
            "/usr/local/lib/python3.6/dist-packages/statsmodels/tools/_testing.py:19: FutureWarning: pandas.util.testing is deprecated. Use the functions in the public API at pandas.testing instead.\n",
            "  import pandas.util.testing as tm\n"
          ],
          "name": "stderr"
        }
      ]
    },
    {
      "cell_type": "code",
      "metadata": {
        "id": "cr_gWTEFCOxb",
        "colab_type": "code",
        "colab": {
          "base_uri": "https://localhost:8080/",
          "height": 35
        },
        "outputId": "7f9f28ed-f3a3-4019-b9a2-163375607cd9"
      },
      "source": [
        "from google.colab import drive\n",
        "drive.mount('/content/drive')"
      ],
      "execution_count": 2,
      "outputs": [
        {
          "output_type": "stream",
          "text": [
            "Drive already mounted at /content/drive; to attempt to forcibly remount, call drive.mount(\"/content/drive\", force_remount=True).\n"
          ],
          "name": "stdout"
        }
      ]
    },
    {
      "cell_type": "markdown",
      "metadata": {
        "id": "oWC2HlzpKivC",
        "colab_type": "text"
      },
      "source": [
        "## Either Continuous Spike Time"
      ]
    },
    {
      "cell_type": "code",
      "metadata": {
        "id": "W1KDR1LyIx2e",
        "colab_type": "code",
        "cellView": "both",
        "colab": {}
      },
      "source": [
        "#@title Data retrieval : Continuous Spike Time \n",
        "import os, requests\n",
        "\n",
        "fname = ['steinmetz_st.npz']\n",
        "\n",
        "url = [\"https://osf.io/4bjns/download\"]\n",
        "\n",
        "for j in range(len(url)):\n",
        "  if not os.path.isfile(fname[j]):\n",
        "    try:\n",
        "      r = requests.get(url[j])\n",
        "    except requests.ConnectionError:\n",
        "      print(\"!!! Failed to download data !!!\")\n",
        "    else:\n",
        "      if r.status_code != requests.codes.ok:\n",
        "        print(\"!!! Failed to download data !!!\")\n",
        "      else:\n",
        "        with open(fname[j], \"wb\") as fid:\n",
        "          fid.write(r.content)"
      ],
      "execution_count": 3,
      "outputs": []
    },
    {
      "cell_type": "code",
      "metadata": {
        "id": "UBkqIDsvJEbv",
        "colab_type": "code",
        "cellView": "form",
        "colab": {
          "base_uri": "https://localhost:8080/",
          "height": 35
        },
        "outputId": "34e0a1da-7e12-4717-a8bd-fcfcad88fabf"
      },
      "source": [
        "#@title Data loading -- Continuous Spike Time\n",
        "import numpy as np\n",
        "alldat_ST = np.load('steinmetz_st.npz', allow_pickle=True)['dat']\n",
        "\n",
        "# select just one of the recordings here. 11 is nice because it has some neurons in vis ctx. \n",
        "dat_ST = alldat_ST[11]\n",
        "print(dat_ST.keys())"
      ],
      "execution_count": 4,
      "outputs": [
        {
          "output_type": "stream",
          "text": [
            "dict_keys(['ss', 'ss_passive'])\n"
          ],
          "name": "stdout"
        }
      ]
    },
    {
      "cell_type": "markdown",
      "metadata": {
        "id": "5K7UT7dyj_6R",
        "colab_type": "text"
      },
      "source": [
        "`dat_LFP`, `dat_WAV`, `dat_ST` contain 39 sessions from 10 mice, data from Steinmetz et al, 2019, supplemental to the main data provided for NMA. Time bins for all measurements are 10ms, starting 500ms before stimulus onset (same as the main data). The followin fields are available in dat. \n",
        "\n",
        "* `dat['ss']`: neurons by trials. Exact spikes times for each neuron and each trial, reference to the stimulus onset. A (neuron,trial) entry can be an empty list if that neuron did not fire at all on that trial. \n",
        "* `dat['%X%_passive']`: same as above for `X` = {`lfp`, `ss`} but for  passive trials at the end of the recording when the mouse was no longer engaged and stopped making responses. \n",
        "\n",
        "\n"
      ]
    },
    {
      "cell_type": "markdown",
      "metadata": {
        "id": "XLRNlfdtKpaa",
        "colab_type": "text"
      },
      "source": [
        "## Or Raw Spike Data"
      ]
    },
    {
      "cell_type": "code",
      "metadata": {
        "id": "Xdf6moqJVSVt",
        "colab_type": "code",
        "cellView": "form",
        "colab": {}
      },
      "source": [
        "#@title Data retrieval -- Raw Spike\n",
        "import os, requests\n",
        "\n",
        "fname = []\n",
        "for j in range(3):\n",
        "  fname.append('steinmetz_part%d.npz'%j)\n",
        "url = [\"https://osf.io/agvxh/download\"]\n",
        "url.append(\"https://osf.io/uv3mw/download\")\n",
        "url.append(\"https://osf.io/ehmw2/download\")\n",
        "\n",
        "for j in range(len(url)):\n",
        "  if not os.path.isfile(fname[j]):\n",
        "    try:\n",
        "      r = requests.get(url[j])\n",
        "    except requests.ConnectionError:\n",
        "      print(\"!!! Failed to download data !!!\")\n",
        "    else:\n",
        "      if r.status_code != requests.codes.ok:\n",
        "        print(\"!!! Failed to download data !!!\")\n",
        "      else:\n",
        "        with open(fname[j], \"wb\") as fid:\n",
        "          fid.write(r.content)\n"
      ],
      "execution_count": 5,
      "outputs": []
    },
    {
      "cell_type": "code",
      "metadata": {
        "id": "v8lgZBe6VWEu",
        "colab_type": "code",
        "cellView": "both",
        "colab": {
          "base_uri": "https://localhost:8080/",
          "height": 55
        },
        "outputId": "467e2b5f-98f9-427d-fd9c-45bae3e04b77"
      },
      "source": [
        "#@title Data loading -- Raw Spike\n",
        "import numpy as np\n",
        "\n",
        "alldat = np.array([])\n",
        "for j in range(len(fname)):\n",
        "  alldat = np.hstack((alldat, np.load('steinmetz_part%d.npz'%j, allow_pickle=True)['dat']))\n",
        "\n",
        "# select just one of the recordings here. 11 is nice because it has some neurons in vis ctx. \n",
        "dat = alldat[11]\n",
        "print(dat.keys())"
      ],
      "execution_count": 6,
      "outputs": [
        {
          "output_type": "stream",
          "text": [
            "dict_keys(['spks', 'wheel', 'pupil', 'response', 'response_time', 'bin_size', 'stim_onset', 'contrast_right', 'contrast_left', 'brain_area', 'feedback_time', 'feedback_type', 'gocue', 'mouse_name', 'date_exp', 'trough_to_peak', 'active_trials', 'contrast_left_passive', 'contrast_right_passive', 'spks_passive', 'pupil_passive', 'wheel_passive', 'prev_reward', 'ccf', 'ccf_axes', 'cellid_orig', 'reaction_time', 'face', 'face_passive', 'licks', 'licks_passive'])\n"
          ],
          "name": "stdout"
        }
      ]
    },
    {
      "cell_type": "markdown",
      "metadata": {
        "colab_type": "text",
        "id": "XzCA1Su3J5Rj"
      },
      "source": [
        "`alldat` contains 39 sessions from 10 mice, data from Steinmetz et al, 2019. Time bins for all measurements are 10ms, starting 500ms before stimulus onset. The mouse had to determine which side has the highest contrast. For each `dat = alldat[k]`, you have the fields below. For extra variables, check out the extra notebook and extra data files (lfp, waveforms and exact spike times, non-binned). \n",
        "\n",
        "* `dat['mouse_name']`: mouse name\n",
        "* `dat['date_exp']`: when a session was performed\n",
        "* `dat['spks']`: neurons by trials by time bins.    \n",
        "* `dat['brain_area']`: brain area for each neuron recorded. \n",
        "* `dat['ccf']`: Allen Institute brain atlas coordinates for each neuron. \n",
        "* `dat['ccf_axes']`: axes names for the Allen CCF. \n",
        "* `dat['contrast_right']`: contrast level for the right stimulus, which is always contralateral to the recorded brain areas.\n",
        "* `dat['contrast_left']`: contrast level for left stimulus. \n",
        "* `dat['gocue']`: when the go cue sound was played. \n",
        "* `dat['response_times']`: when the response was registered, which has to be after the go cue. The mouse can turn the wheel before the go cue (and nearly always does!), but the stimulus on the screen won't move before the go cue.  \n",
        "* `dat['response']`: which side the response was (`-1`, `0`, `1`). When the right-side stimulus had higher contrast, the correct choice was `-1`. `0` is a no go response. \n",
        "* `dat['feedback_time']`: when feedback was provided. \n",
        "* `dat['feedback_type']`: if the feedback was positive (`+1`, reward) or negative (`-1`, white noise burst).  \n",
        "* `dat['wheel']`: turning speed of the wheel that the mice uses to make a response, sampled at `10ms`. \n",
        "* `dat['pupil']`: pupil area  (noisy, because pupil is very small) + pupil horizontal and vertical position.\n",
        "* `dat['face']`: average face motion energy from a video camera. \n",
        "* `dat['licks']`: lick detections, 0 or 1.   \n",
        "* `dat['trough_to_peak']`: measures the width of the action potential waveform for each neuron. Widths `<=10` samples are \"putative fast spiking neurons\". \n",
        "* `dat['%X%_passive']`: same as above for `X` = {`spks`, `pupil`, `wheel`, `contrast_left`, `contrast_right`} but for  passive trials at the end of the recording when the mouse was no longer engaged and stopped making responses. \n",
        "* `dat['prev_reward']`: time of the feedback (reward/white noise) on the previous trial in relation to the current stimulus time. \n",
        "* `dat['reaction_time']`: ntrials by 2. First column: reaction time computed from the wheel movement as the first sample above `5` ticks/10ms bin. Second column: direction of the wheel movement (`0` = no move detected).  \n",
        "\n",
        "\n"
      ]
    },
    {
      "cell_type": "markdown",
      "metadata": {
        "id": "y_OplZiQKQBj",
        "colab_type": "text"
      },
      "source": [
        "# Function Implementations"
      ]
    },
    {
      "cell_type": "code",
      "metadata": {
        "id": "OvxDhkzP4sZz",
        "colab_type": "code",
        "cellView": "both",
        "colab": {}
      },
      "source": [
        "def spike_count(reference, target, synch_width, print_spikes = False):\n",
        "  '''Compute the number of spikes within the [-w,w] interval\n",
        "\n",
        "    Args:\n",
        "      reference(1D float array): exact spike times of the reference neuron\n",
        "      target(1D float array): exact spike times of the target neuron\n",
        "      synch_width (int): absolute value of w in miliseconds to construct [-w,w]\n",
        "\n",
        "    Returns:\n",
        "      number of spikes (int): Number of spikes within the synch_width \n",
        "\n",
        "    NOTES:\n",
        "    * For now, the interval has thought to be symmetric with respect to origin \n",
        "      but in case it's desired, it could be modified to support [lower, upper] \n",
        "      definition.\n",
        "    \n",
        "    * The shapes of the reference and target neuron recordings does not need to \n",
        "      match. If it creates problems, instead of using 1D float arrays, there is \n",
        "      a chance to use the raw spike recording which are 1D boolean arrays \n",
        "      guaranteed to have the same shape.\n",
        "    @ugurc 200725\n",
        "  '''\n",
        "  r = 0\n",
        "  t = 0\n",
        "  num_spikes = 0\n",
        "  synch_width = synch_width*1.0/1000.0\n",
        "\n",
        "  while r<len(reference):\n",
        "    if t<len(target):\n",
        "      if check_synch(reference[r], target[t], synch_width, print_spikes):\n",
        "        num_spikes+=1\n",
        "      if target[t]>(reference[r]+synch_width):\n",
        "        # A reference spike may be synched with multiple target spikes\n",
        "        r+=1\n",
        "        if r<len(reference):\n",
        "          # A target spike may be synched with multiple reference spikes\n",
        "          while target[t]>(reference[r]-synch_width):\n",
        "            if t>0:\n",
        "              t-=1\n",
        "            else:\n",
        "              break\n",
        "      else:\n",
        "        t+=1\n",
        "    else:\n",
        "      break\n",
        "\n",
        "  return num_spikes"
      ],
      "execution_count": 7,
      "outputs": []
    },
    {
      "cell_type": "code",
      "metadata": {
        "id": "8-qRqAnNSC7L",
        "colab_type": "code",
        "colab": {}
      },
      "source": [
        "def check_synch(s1, s2, synch_width, print_spikes):\n",
        "  '''Check two spike times and returns if two of the spikes have fired in the \n",
        "    same time interval [-w, w] or not\n",
        "\n",
        "    Args:\n",
        "      reference(float): reference spike time\n",
        "      target(float): target spike time\n",
        "      synch_width (int): absolute value of w in miliseconds to construct [-w,w]\n",
        "\n",
        "    Returns:\n",
        "      if_synch (bool): If two spikes are in synchrony or not\n",
        "\n",
        "    @ugurc 200727\n",
        "  '''\n",
        "  if not print_spikes:\n",
        "    return True if (abs(s1-s2)<synch_width) else False\n",
        "\n",
        "  else:\n",
        "    if (abs(s1-s2)<synch_width):\n",
        "      print(\"REFERENCE: \", s1)\n",
        "      print(\"TARGET: \", s2)\n",
        "      return True\n",
        "    else:\n",
        "      return False\n"
      ],
      "execution_count": 8,
      "outputs": []
    },
    {
      "cell_type": "code",
      "metadata": {
        "id": "sYEgU_xbSH8L",
        "colab_type": "code",
        "colab": {}
      },
      "source": [
        "def average_over_trials(reference_set, target_set, synch_width):\n",
        "  ''' Compute the mean synchronous spikes counts given two sets of trials\n",
        "    Args:\n",
        "      reference(1D array of numpy arrays): exact spike times of the reference \n",
        "        neuron over the course of trials \n",
        "      target(1D array of numpy arrays): exact spike times of the target neuron \n",
        "        over the course of trials\n",
        "      synch_width (int): absolute value of w in miliseconds to construct [-w,w]\n",
        "\n",
        "    Returns:\n",
        "      number of spikes (int): Average number of spikes within the synch_width\n",
        "\n",
        "    @ugurc 200728\n",
        "  '''\n",
        "  # Smaller trial set determines the averaging window size\n",
        "  trial_size = len(reference_set) if (len(reference_set) \\\n",
        "                                      <= len(target_set)) else len(target_set)\n",
        "  average = 0\n",
        "\n",
        "  for i in range(trial_size):\n",
        "    average += spike_count(reference_set[i], target_set[i], synch_width)\n",
        "\n",
        "  return average*1.0/trial_size"
      ],
      "execution_count": 9,
      "outputs": []
    },
    {
      "cell_type": "code",
      "metadata": {
        "id": "LkQtMjKh3POU",
        "colab_type": "code",
        "colab": {}
      },
      "source": [
        "def extract_areas(dat, dat_ST, session = 11):\n",
        "  '''Isolate the area specific neuron data from the whole set and store them \n",
        "    in a dictionary\n",
        "\n",
        "    Args:\n",
        "      dat: contains the brain area names from the raw data set\n",
        "      dat_ST: contains the continuous spike train data\n",
        "      session: selected session data out of all the 39 sessions (default is 11)\n",
        "\n",
        "    Returns:\n",
        "      ndata: a dictionary containing sorted arrays of neuronal data \n",
        "        based on the areas\n",
        "      selected_areas: an array of areas of interest in the particular session\n",
        "  '''\n",
        "\n",
        "  selected_areas = ['ACA' ,'CA1', 'DG', 'LGd', 'LH', 'MD', \\\n",
        "                    'MOs', 'PL', 'SUB', 'VISam', 'VISp', 'root']\n",
        "\n",
        "  # only the top 8 regions are in this particular mouse\n",
        "  nareas = len(selected_areas) \n",
        "  g=[]\n",
        "  ndata = {'ACA':[] ,'CA1':[] ,'DG' :[],'LGd':[] ,'LH':[] ,'MD':[] ,\\\n",
        "           'MOs':[], 'PL':[], 'SUB':[], 'VISam':[], 'VISp':[], 'root':[]}\n",
        "\n",
        "  for j in range(nareas):\n",
        "      dat = alldat[session]\n",
        "      dat_S = dat_ST[session]['ss']\n",
        "      g = np.where(dat['brain_area']== selected_areas[j])\n",
        "      if (len(g[0])!=0):\n",
        "        #collects the neuron data corresponding to the areas of interest \n",
        "        ndata.update({selected_areas[j]:dat_S[g[0]]}) \n",
        "  \n",
        "  return ndata, selected_areas"
      ],
      "execution_count": 10,
      "outputs": []
    },
    {
      "cell_type": "code",
      "metadata": {
        "id": "ecRiV19LhgJU",
        "colab_type": "code",
        "colab": {}
      },
      "source": [
        "def analyse_region(data, region, synch_width):\n",
        "  '''Analyse the synchrony between the neurons in a given region\n",
        "\n",
        "    Args:\n",
        "      data(1D array of numpy arrays): dictionary containing sorted arrays of \n",
        "        neuronal data based on the areas {key = region, value = (neuron, trial)}\n",
        "        value is an array of numpy arrays consisting of spike time arrays of \n",
        "        neurons in a given region.\n",
        "      region(string): the string representing the region of interest in the \n",
        "        given data\n",
        "      synch_width (int): absolute value of w in miliseconds to construct [-w,w]\n",
        "\n",
        "    Returns:\n",
        "      num_spikes(upper triangular 2D matrix): a matrix consisting of number of \n",
        "        synchronous spikes between two neurons [target][reference]\n",
        "    \n",
        "    NOTES:\n",
        "      * In the region structure, numpy arrays might have different shapes.\n",
        "\n",
        "      * If it's hard to deal with sparse spike time, instead of using 1D float \n",
        "        arrays, there is a chance to use the raw spike recording which are 1D \n",
        "        boolean arrays guaranteed to have the same shape.\n",
        "\n",
        "      * If width has chosen to be symmetric([w-,w]), there is no need to keep \n",
        "        track of [target][reference] and [reference][target] cells separately.\n",
        "        Also, there is no need to analyze if the neuron has a correspondence \n",
        "        with itself. It eliminates the need for diagonal entries like ([1][1]). \n",
        "        Therefore, the num_spikes matrix has implemented as an upper diagonal \n",
        "        matrix. If we would like to keep track of succeeding and preceding \n",
        "        neurons information, [0,w_positive] and [w_negative,0] intervals need to \n",
        "        be analyzed separately. In that case, instead of an upper triangular \n",
        "        matrix, we would need to generate two full matrices. One for \n",
        "        [0,w_positive] interval and one for [w_negative,0] interval.\n",
        "\n",
        "    @ugurc 200725\n",
        "  '''\n",
        "  test_size = np.size(data[region], axis = 0)\n",
        "  test = np.zeros((test_size,test_size))\n",
        "\n",
        "  for i in range(test_size):\n",
        "    for j in range(i+1, test_size):\n",
        "      test[i][j] = average_over_trials(data[region][i], data[region][j],\\\n",
        "                                      synch_width)\n",
        "  return test"
      ],
      "execution_count": 11,
      "outputs": []
    },
    {
      "cell_type": "code",
      "metadata": {
        "id": "F5h2-yUnLCLa",
        "colab_type": "code",
        "cellView": "both",
        "colab": {}
      },
      "source": [
        "def raster_plot(spike_times, neurons_of_interest):\n",
        "  '''Creates a raster plot of given spike times and neruons of interest\n",
        "\n",
        "    Args:\n",
        "      spike_times(1D array of numpy arrays): array of numpy arrays consisting of \n",
        "        spike time arrays of neurons.\n",
        "      neurons_of_interest(1D array): an array of neuron indexes to be presented \n",
        "        in the raster plot\n",
        "\n",
        "    @ugurc 200725\n",
        "  '''\n",
        "\n",
        "  plt.eventplot(spike_times[neuron_idx], color=\".2\")\n",
        "  plt.xlabel(\"Time (s)\")\n",
        "  plt.show()"
      ],
      "execution_count": 12,
      "outputs": []
    },
    {
      "cell_type": "code",
      "metadata": {
        "id": "YH65A_fYn1ZD",
        "colab_type": "code",
        "colab": {}
      },
      "source": [
        "def heat_map_annotated(test, title, save_fig = False):\n",
        "  '''Creates an annotated heat map depending on the given test data\n",
        "\n",
        "    Args:\n",
        "      test(2D array): data to be printed\n",
        "      title(string): title to be shown. It will also be used as the filename\n",
        "      save_fig(bool): save the figure or not \n",
        "       \n",
        "    @ugurc 200728\n",
        "  '''\n",
        "  size = np.size(test, axis=0)\n",
        "  f, ax = plt.subplots(figsize=(np.size(test, axis=1), np.size(test, axis=0)))\n",
        "  sns.heatmap(test, annot=True, fmt=\".2f\", linewidths=.5, ax=ax,cmap=\"Greens\")\n",
        "  if (save_fig):\n",
        "    f.savefig(\"{}.png\".format(title))\n",
        "    plt.close(f)\n",
        "  # f.show()"
      ],
      "execution_count": 13,
      "outputs": []
    },
    {
      "cell_type": "code",
      "metadata": {
        "id": "rjSSMLfME_np",
        "colab_type": "code",
        "colab": {}
      },
      "source": [
        "def calc_null_distribution(reference_set, target_set, jitter_width, synch_width, n_iterations, sig_percentile):\n",
        "  ''' Creates a null distribution by jittering spike times\n",
        "  '''\n",
        "  \n",
        "  jittered_samples = np.zeros((n_iterations, 1))\n",
        "\n",
        "  for iter in range(n_iterations):\n",
        "    jittered_target_set = np.zeros(target_set.shape, dtype=np.ndarray)\n",
        "    for i, target_trial in enumerate(target_set):\n",
        "      target_trial = np.array(target_trial)\n",
        "      jitter_times = np.random.uniform(low = -jitter_width, high = jitter_width, size = target_trial.shape)\n",
        "      jittered_target_trial = target_trial + jitter_times\n",
        "      jittered_target_set[i] = jittered_target_trial\n",
        "    jittered_count = average_over_trials(reference_set, jittered_target_set, synch_width)\n",
        "    jittered_samples[iter] = jittered_count\n",
        "  \n",
        "  # plt.hist(jittered_samples, bins = 15) \n",
        "  # plt.title(\"Null distribution\") \n",
        "  # plt.show()\n",
        "\n",
        "  return np.percentile(jittered_samples, sig_percentile), jittered_samples"
      ],
      "execution_count": 14,
      "outputs": []
    },
    {
      "cell_type": "code",
      "metadata": {
        "id": "Vjgtp5lMI1Gq",
        "colab_type": "code",
        "colab": {}
      },
      "source": [
        "def plot_hist(jittered_samples, unjittered_count, title, saveFig = False):\n",
        "\n",
        "  plt.hist(jittered_samples)\n",
        "  plt.axvline(unjittered_count, color = 'red', linewidth = 5, linestyle = '--',\\\n",
        "              label = \"Unjittered Count {:.2f}\".format(unjittered_count))\n",
        "  plt.xlabel(\"Number of Synchronous Spikes\")\n",
        "  plt.ylabel(\"Number of cases out of {}\".format(len(jittered_samples)))\n",
        "  plt.legend()\n",
        "\n",
        "  if saveFig:\n",
        "    plt.savefig(\"{}.png\".format(title))\n",
        "    plt.close()\n",
        "# plot_hist([0,1,2,3,4,5,6,7,8,9,10], 5, 'try', True)"
      ],
      "execution_count": 15,
      "outputs": []
    },
    {
      "cell_type": "code",
      "metadata": {
        "id": "7K7ETeXTJnhd",
        "colab_type": "code",
        "colab": {}
      },
      "source": [
        "def full_pipeline(ndata, areapair, synch_width, jitter_width, path):\n",
        "  '''Analyse the synchrony between the neurons in a given region\n",
        "\n",
        "    Args:\n",
        "      ndata (dict): data from different areas\n",
        "      areapair (tuple): pair of areas to consider\n",
        "      synch_width (int): absolute value of w in miliseconds to construct [-w,w] IN MSEC\n",
        "      jitter_width (float): the half-width of the interval for random spike time jittering\n",
        "\n",
        "    Returns:\n",
        "      num_spikes(2D matrix): a matrix consisting of respective spike\n",
        "        times between two neurons [target][reference]\n",
        "    \n",
        "    NOTES:\n",
        "      * In the region structure, numpy arrays might have different shapes.\n",
        "\n",
        "      * If it's hard to deal with sparse spike time, instead of using 1D float \n",
        "        arrays, there is a chance to use the raw spike recording which are 1D \n",
        "        boolean arrays guaranteed to have the same shape.\n",
        "\n",
        "      * If width has chosen to be symmetric([w-,w]), there is no need to keep \n",
        "        track of [target][reference] and [reference][target] cells separately.\n",
        "        Also, there is no need to analyze if the neuron has a correspondence \n",
        "        with itself. It eliminates the need for diagonal entries like ([1][1]). \n",
        "        Therefore, the num_spikes matrix has implemented as an upper diagonal \n",
        "        matrix. If we would like to keep track of succeeding and preceding \n",
        "        neurons information, [0,w_positive] and [w_negative,0] intervals need to \n",
        "        be analyzed separately. In that case, instead of an upper triangular \n",
        "        matrix, we would need to generate two full matrices. One for \n",
        "        [0,w_positive] interval and one for [w_negative,0] interval.\n",
        "    @ugurc\n",
        "  '''\n",
        "\n",
        "  output = {} # for N areas, the output will contain N*(N-1) matrices with single-neurons' pairwise synchrony\n",
        "  output_binary = {}\n",
        "\n",
        "  areaA, areaB = areapair\n",
        "  if areaA == 'ACA':\n",
        "    if areaB == 'CA1':\n",
        "      return\n",
        "  output[areapair] = np.zeros((len(ndata[areaA]), len(ndata[areaB])))\n",
        "  output_binary[areapair] = np.zeros((len(ndata[areaA]), len(ndata[areaB])))\n",
        "  # ndata[areaA]: (neuron, trial) entry is a list with spike times\n",
        "  for iA, nA in enumerate(ndata[areaA]):\n",
        "    for iB, nB in enumerate(ndata[areaB]):\n",
        "      unjittered_count = average_over_trials(nA, nB, synch_width)\n",
        "      # binarize the unjittered count\n",
        "      upper_perc, jittered_samples = calc_null_distribution(nA, nB, jitter_width = 0.01, \\\n",
        "                                                            synch_width = synch_width, \\\n",
        "                                                            n_iterations = 100, \\\n",
        "                                                            sig_percentile = 95)\n",
        "      synchronous = unjittered_count > upper_perc\n",
        "      output[areapair][iA, iB] = unjittered_count\n",
        "      output_binary[areapair][iA, iB] = synchronous\n",
        "      \n",
        "  with open(path+\"_binary\".format(areapair),'wb') as outfile:\n",
        "    pickle.dump(output_binary, outfile)\n",
        "\n",
        "  with open(path+\"{0}_unjittered\".format(areapair),'wb') as outfile:\n",
        "    pickle.dump(output, outfile)\n",
        "\n",
        "  with open(path+\"{0}_jittered\".format(areapair),'wb') as outfile:\n",
        "    pickle.dump(jittered_samples, outfile)\n",
        "\n",
        "  title = path+\"heat_{0}\".format(areapair)\n",
        "  title_hist = path+\"hist_{0}\".format(areapair)\n",
        "  heat_map_annotated(output[areapair], title, save_fig = True)\n",
        "  plot_hist(jittered_samples, unjittered_count, title_hist, saveFig = True)"
      ],
      "execution_count": 16,
      "outputs": []
    },
    {
      "cell_type": "markdown",
      "metadata": {
        "id": "Y8b6ZWYDLvm6",
        "colab_type": "text"
      },
      "source": [
        "# Tests"
      ]
    },
    {
      "cell_type": "code",
      "metadata": {
        "id": "SukkCoi3LulF",
        "colab_type": "code",
        "cellView": "form",
        "colab": {
          "base_uri": "https://localhost:8080/",
          "height": 185
        },
        "outputId": "9413b412-b5b4-40d6-d15b-0a635fa06fae"
      },
      "source": [
        "# @title Generating Upper Triangular Matrix\n",
        "import numpy as np\n",
        "test = np.zeros((10,10))\n",
        "for i in range(10):\n",
        "  for j in range(i+1, 10):\n",
        "    test[i][j] = 1\n",
        "\n",
        "print(test)"
      ],
      "execution_count": null,
      "outputs": [
        {
          "output_type": "stream",
          "text": [
            "[[0. 1. 1. 1. 1. 1. 1. 1. 1. 1.]\n",
            " [0. 0. 1. 1. 1. 1. 1. 1. 1. 1.]\n",
            " [0. 0. 0. 1. 1. 1. 1. 1. 1. 1.]\n",
            " [0. 0. 0. 0. 1. 1. 1. 1. 1. 1.]\n",
            " [0. 0. 0. 0. 0. 1. 1. 1. 1. 1.]\n",
            " [0. 0. 0. 0. 0. 0. 1. 1. 1. 1.]\n",
            " [0. 0. 0. 0. 0. 0. 0. 1. 1. 1.]\n",
            " [0. 0. 0. 0. 0. 0. 0. 0. 1. 1.]\n",
            " [0. 0. 0. 0. 0. 0. 0. 0. 0. 1.]\n",
            " [0. 0. 0. 0. 0. 0. 0. 0. 0. 0.]]\n"
          ],
          "name": "stdout"
        }
      ]
    },
    {
      "cell_type": "code",
      "metadata": {
        "id": "vwp7Akc_L0Bl",
        "colab_type": "code",
        "cellView": "form",
        "colab": {
          "base_uri": "https://localhost:8080/",
          "height": 229
        },
        "outputId": "4e9464be-d2be-43c8-ae1f-f8dbfd0e4990"
      },
      "source": [
        "# @title Raster Plot\n",
        "# !!! Retrieve and load the continuous spike time data first\n",
        "\n",
        "neuron_idx = np.arange(0, len(dat_ST['ss'][:,50]), 1)\n",
        "# neuron_idx = 87\n",
        "raster_plot(dat_ST['ss'][:,50], neuron_idx)"
      ],
      "execution_count": null,
      "outputs": [
        {
          "output_type": "display_data",
          "data": {
            "image/png": "[encoded data removed]",
            "text/plain": [
              "<Figure size 1440x288 with 1 Axes>"
            ]
          },
          "metadata": {
            "tags": [],
            "needs_background": "light"
          }
        }
      ]
    },
    {
      "cell_type": "code",
      "metadata": {
        "id": "dq39mILmBgIt",
        "colab_type": "code",
        "cellView": "form",
        "colab": {
          "base_uri": "https://localhost:8080/",
          "height": 682
        },
        "outputId": "640affcf-f17f-4d5a-dda6-efeb1aa5dcd9"
      },
      "source": [
        "# @title Single Trial Spike Count\n",
        "ref = dat_ST['ss'][87,50]\n",
        "tar = dat_ST['ss'][145,50]\n",
        "synch_width = 50 # in msec\n",
        "\n",
        "# For visual investigation\n",
        "neuron_idx = [145,87]\n",
        "raster_plot(dat_ST['ss'][:,50], neuron_idx)\n",
        "print(\"Reference Neuron\", ref)\n",
        "print(\"Target Neuron\",tar)\n",
        "# ---------------------------------------\n",
        "\n",
        "# Multiple Target Spikes\n",
        "print(\"\\nMultiple Target Spikes\")\n",
        "print(\"Total Spikes: \",spike_count(ref,tar,synch_width,True))\n",
        "\n",
        "#Multiple Reference Spikes\n",
        "print(\"\\nMultiple Reference Spikes\")\n",
        "print(\"Total Spikes: \",spike_count(tar,ref,synch_width,True))"
      ],
      "execution_count": null,
      "outputs": [
        {
          "output_type": "display_data",
          "data": {
            "image/png": "[encoded data removed]",
            "text/plain": [
              "<Figure size 1440x288 with 1 Axes>"
            ]
          },
          "metadata": {
            "tags": [],
            "needs_background": "light"
          }
        },
        {
          "output_type": "stream",
          "text": [
            "Reference Neuron [0.08044791 1.404648   1.7849146  2.4689813 ]\n",
            "Target Neuron [1.1145817e-03 5.0188124e-01 5.4424793e-01 5.5074793e-01 5.8011460e-01\n",
            " 6.0658127e-01 6.2778127e-01 6.8934792e-01 7.0194793e-01 7.0601457e-01\n",
            " 7.8301460e-01 1.0154146e+00 1.0182812e+00 1.0235479e+00 1.5318812e+00\n",
            " 1.5356812e+00 1.8035812e+00 1.8253813e+00 1.8310146e+00 1.8441813e+00\n",
            " 1.8464479e+00 1.8730812e+00 1.8761146e+00 1.8810480e+00 1.8837479e+00\n",
            " 1.8864145e+00 1.9375479e+00 2.0286479e+00 2.0348814e+00 2.0440147e+00\n",
            " 2.0463812e+00 2.0573480e+00 2.0604479e+00 2.2124813e+00 2.2169480e+00\n",
            " 2.3846478e+00]\n",
            "\n",
            "Multiple Target Spikes\n",
            "REFERENCE:  1.7849146\n",
            "TARGET:  1.8035812\n",
            "REFERENCE:  1.7849146\n",
            "TARGET:  1.8253813\n",
            "REFERENCE:  1.7849146\n",
            "TARGET:  1.8310146\n",
            "Total Spikes:  3\n",
            "\n",
            "Multiple Reference Spikes\n",
            "REFERENCE:  1.8035812\n",
            "TARGET:  1.7849146\n",
            "REFERENCE:  1.8253813\n",
            "TARGET:  1.7849146\n",
            "REFERENCE:  1.8310146\n",
            "TARGET:  1.7849146\n",
            "Total Spikes:  3\n"
          ],
          "name": "stdout"
        }
      ]
    },
    {
      "cell_type": "code",
      "metadata": {
        "id": "RTEFY0jEVDGg",
        "colab_type": "code",
        "cellView": "form",
        "colab": {
          "base_uri": "https://localhost:8080/",
          "height": 1000
        },
        "outputId": "d64bc43f-9440-45b8-97f9-7dfa5c9d1b8a"
      },
      "source": [
        "# @title Extract Brain Regions From the Dataset\n",
        "\n",
        "session = 11\n",
        "data, selected_areas = extract_areas(alldat, alldat_ST, session)\n",
        "\n",
        "for j in range (len(selected_areas)):\n",
        "  plt.figure(j)\n",
        "  print(\"Region:\", selected_areas[j])\n",
        "  p,_, = data[selected_areas[j]].shape\n",
        "  spike_times = data[selected_areas[j]][:,5]\n",
        "  neuron_idx = np.arange(0, len(spike_times), 1)\n",
        "  raster_plot(spike_times, neuron_idx)"
      ],
      "execution_count": null,
      "outputs": [
        {
          "output_type": "stream",
          "text": [
            "Region: ACA\n"
          ],
          "name": "stdout"
        },
        {
          "output_type": "display_data",
          "data": {
            "image/png": "[encoded data removed]",
            "text/plain": [
              "<Figure size 1440x288 with 1 Axes>"
            ]
          },
          "metadata": {
            "tags": [],
            "needs_background": "light"
          }
        },
        {
          "output_type": "stream",
          "text": [
            "Region: CA1\n"
          ],
          "name": "stdout"
        },
        {
          "output_type": "display_data",
          "data": {
            "image/png": "[encoded data removed]",
            "text/plain": [
              "<Figure size 1440x288 with 1 Axes>"
            ]
          },
          "metadata": {
            "tags": [],
            "needs_background": "light"
          }
        },
        {
          "output_type": "stream",
          "text": [
            "Region: DG\n"
          ],
          "name": "stdout"
        },
        {
          "output_type": "display_data",
          "data": {
            "image/png": "[encoded data removed]",
            "text/plain": [
              "<Figure size 1440x288 with 1 Axes>"
            ]
          },
          "metadata": {
            "tags": [],
            "needs_background": "light"
          }
        },
        {
          "output_type": "stream",
          "text": [
            "Region: LGd\n"
          ],
          "name": "stdout"
        },
        {
          "output_type": "display_data",
          "data": {
            "image/png": "[encoded data removed]",
            "text/plain": [
              "<Figure size 1440x288 with 1 Axes>"
            ]
          },
          "metadata": {
            "tags": [],
            "needs_background": "light"
          }
        },
        {
          "output_type": "stream",
          "text": [
            "Region: LH\n"
          ],
          "name": "stdout"
        },
        {
          "output_type": "display_data",
          "data": {
            "image/png": "[encoded data removed]",
            "text/plain": [
              "<Figure size 1440x288 with 1 Axes>"
            ]
          },
          "metadata": {
            "tags": [],
            "needs_background": "light"
          }
        },
        {
          "output_type": "stream",
          "text": [
            "Region: MD\n"
          ],
          "name": "stdout"
        },
        {
          "output_type": "display_data",
          "data": {
            "image/png": "[encoded data removed]",
            "text/plain": [
              "<Figure size 1440x288 with 1 Axes>"
            ]
          },
          "metadata": {
            "tags": [],
            "needs_background": "light"
          }
        },
        {
          "output_type": "stream",
          "text": [
            "Region: MOs\n"
          ],
          "name": "stdout"
        },
        {
          "output_type": "display_data",
          "data": {
            "image/png": "[encoded data removed]",
            "text/plain": [
              "<Figure size 1440x288 with 1 Axes>"
            ]
          },
          "metadata": {
            "tags": [],
            "needs_background": "light"
          }
        },
        {
          "output_type": "stream",
          "text": [
            "Region: PL\n"
          ],
          "name": "stdout"
        },
        {
          "output_type": "display_data",
          "data": {
            "image/png": "[encoded data removed]",
            "text/plain": [
              "<Figure size 1440x288 with 1 Axes>"
            ]
          },
          "metadata": {
            "tags": [],
            "needs_background": "light"
          }
        },
        {
          "output_type": "stream",
          "text": [
            "Region: SUB\n"
          ],
          "name": "stdout"
        },
        {
          "output_type": "display_data",
          "data": {
            "image/png": "[encoded data removed]",
            "text/plain": [
              "<Figure size 1440x288 with 1 Axes>"
            ]
          },
          "metadata": {
            "tags": [],
            "needs_background": "light"
          }
        },
        {
          "output_type": "stream",
          "text": [
            "Region: VISam\n"
          ],
          "name": "stdout"
        },
        {
          "output_type": "display_data",
          "data": {
            "image/png": "[encoded data removed]",
            "text/plain": [
              "<Figure size 1440x288 with 1 Axes>"
            ]
          },
          "metadata": {
            "tags": [],
            "needs_background": "light"
          }
        },
        {
          "output_type": "stream",
          "text": [
            "Region: VISp\n"
          ],
          "name": "stdout"
        },
        {
          "output_type": "display_data",
          "data": {
            "image/png": "[encoded data removed]",
            "text/plain": [
              "<Figure size 1440x288 with 1 Axes>"
            ]
          },
          "metadata": {
            "tags": [],
            "needs_background": "light"
          }
        },
        {
          "output_type": "stream",
          "text": [
            "Region: root\n"
          ],
          "name": "stdout"
        },
        {
          "output_type": "display_data",
          "data": {
            "image/png": "[encoded data removed]",
            "text/plain": [
              "<Figure size 1440x288 with 1 Axes>"
            ]
          },
          "metadata": {
            "tags": [],
            "needs_background": "light"
          }
        }
      ]
    },
    {
      "cell_type": "code",
      "metadata": {
        "id": "zsZ5dussX6sd",
        "colab_type": "code",
        "cellView": "both",
        "colab": {
          "base_uri": "https://localhost:8080/",
          "height": 246
        },
        "outputId": "d704bcf9-b968-4053-a744-acc21669fb74"
      },
      "source": [
        "# @title Average Over Trials and Histogram\n",
        "\n",
        "trial_size = np.size(dat_ST['ss'], axis = 1)\n",
        "synch_width = 500 # in msec\n",
        "trial = np.zeros(trial_size)\n",
        "\n",
        "for i in range(trial_size):\n",
        "  ref = dat_ST['ss'][87,i]\n",
        "  tar = dat_ST['ss'][145,i]\n",
        "  trial[i] = spike_count(ref, tar, synch_width)\n",
        "\n",
        "plt.hist(trial)\n",
        "plt.axhline(np.mean(trial), color = 'r', label = \"Mean {:.5f}\".format(np.mean(trial)))\n",
        "plt.xlabel(\"Number of Synchronous Spikes Between Neuron 87 and 145\")\n",
        "plt.legend()\n",
        "plt.show()\n",
        "\n",
        "average_over_trials(dat_ST['ss'][87,:], dat_ST['ss'][145,:], synch_width)\n",
        "print(\"Average Over Trials: {:.5f}\".format(average_over_trials(dat_ST['ss'][87,:], dat_ST['ss'][145,:], synch_width)))"
      ],
      "execution_count": null,
      "outputs": [
        {
          "output_type": "display_data",
          "data": {
            "image/png": "[encoded data removed]",
            "text/plain": [
              "<Figure size 1440x288 with 1 Axes>"
            ]
          },
          "metadata": {
            "tags": [],
            "needs_background": "light"
          }
        },
        {
          "output_type": "stream",
          "text": [
            "Average Over Trials: 26.52059\n"
          ],
          "name": "stdout"
        }
      ]
    },
    {
      "cell_type": "code",
      "metadata": {
        "id": "cjudz2dBnO6O",
        "colab_type": "code",
        "cellView": "both",
        "colab": {}
      },
      "source": [
        "# @title Average On A Region Heat Map\n",
        "# (region ->(neuron, trial)) dictionary\n",
        "data, areas = extract_areas(alldat, alldat_ST) \n",
        "synch_width = 5000 # in msec\n",
        "reg = 0\n",
        "test_size = np.size(data[areas[reg]], axis = 0)\n",
        "title = \"Average Synchronous Spike Count Between Neurons in \\\n",
        "{} region \".format(areas[reg])\n",
        "# ------------------       \n",
        "\n",
        "test = analyse_region(data, areas[reg], synch_width)\n",
        "heat_map_annotated(test, title, save_fig = True)"
      ],
      "execution_count": null,
      "outputs": []
    },
    {
      "cell_type": "code",
      "metadata": {
        "id": "_0TgijfcOMj1",
        "colab_type": "code",
        "colab": {
          "base_uri": "https://localhost:8080/",
          "height": 1000
        },
        "outputId": "958c2fb8-2d50-407c-b617-ece46faac7c2"
      },
      "source": [
        "# Testing the function for null distribution based on two neurons in ACA\n",
        "# 0 11 - bad example (NEED TO DISCUSS)\n",
        "# 1 12 - good example\n",
        "\n",
        "calc_null_distribution(data['ACA'][12], data['ACA'][15], jitter_width = 0.01, \\\n",
        "                       synch_width = 5, n_iterations = 200, sig_percentile = 95)"
      ],
      "execution_count": null,
      "outputs": [
        {
          "output_type": "execute_result",
          "data": {
            "text/plain": [
              "(0.12941176470588237, array([[0.10588235],\n",
              "        [0.11176471],\n",
              "        [0.09117647],\n",
              "        [0.12058824],\n",
              "        [0.09705882],\n",
              "        [0.11470588],\n",
              "        [0.10882353],\n",
              "        [0.11470588],\n",
              "        [0.1       ],\n",
              "        [0.07647059],\n",
              "        [0.10294118],\n",
              "        [0.11470588],\n",
              "        [0.09117647],\n",
              "        [0.09411765],\n",
              "        [0.09411765],\n",
              "        [0.11764706],\n",
              "        [0.09117647],\n",
              "        [0.09117647],\n",
              "        [0.11470588],\n",
              "        [0.13235294],\n",
              "        [0.09117647],\n",
              "        [0.10294118],\n",
              "        [0.10588235],\n",
              "        [0.10882353],\n",
              "        [0.10588235],\n",
              "        [0.1       ],\n",
              "        [0.11764706],\n",
              "        [0.10294118],\n",
              "        [0.11764706],\n",
              "        [0.10294118],\n",
              "        [0.10588235],\n",
              "        [0.11470588],\n",
              "        [0.10588235],\n",
              "        [0.09411765],\n",
              "        [0.09117647],\n",
              "        [0.1       ],\n",
              "        [0.13235294],\n",
              "        [0.12941176],\n",
              "        [0.10294118],\n",
              "        [0.12647059],\n",
              "        [0.10882353],\n",
              "        [0.09411765],\n",
              "        [0.09705882],\n",
              "        [0.11764706],\n",
              "        [0.10294118],\n",
              "        [0.10588235],\n",
              "        [0.08823529],\n",
              "        [0.1       ],\n",
              "        [0.09705882],\n",
              "        [0.1       ],\n",
              "        [0.08529412],\n",
              "        [0.11764706],\n",
              "        [0.13235294],\n",
              "        [0.09705882],\n",
              "        [0.10588235],\n",
              "        [0.09411765],\n",
              "        [0.13235294],\n",
              "        [0.08529412],\n",
              "        [0.12058824],\n",
              "        [0.08823529],\n",
              "        [0.09411765],\n",
              "        [0.1       ],\n",
              "        [0.09705882],\n",
              "        [0.10882353],\n",
              "        [0.11470588],\n",
              "        [0.1       ],\n",
              "        [0.12058824],\n",
              "        [0.09705882],\n",
              "        [0.09117647],\n",
              "        [0.09705882],\n",
              "        [0.09117647],\n",
              "        [0.1       ],\n",
              "        [0.12058824],\n",
              "        [0.09705882],\n",
              "        [0.10882353],\n",
              "        [0.11470588],\n",
              "        [0.09117647],\n",
              "        [0.11764706],\n",
              "        [0.09117647],\n",
              "        [0.12058824],\n",
              "        [0.11470588],\n",
              "        [0.11764706],\n",
              "        [0.12647059],\n",
              "        [0.10294118],\n",
              "        [0.1       ],\n",
              "        [0.10882353],\n",
              "        [0.08235294],\n",
              "        [0.08529412],\n",
              "        [0.10588235],\n",
              "        [0.07647059],\n",
              "        [0.10294118],\n",
              "        [0.12647059],\n",
              "        [0.11176471],\n",
              "        [0.10294118],\n",
              "        [0.11470588],\n",
              "        [0.13529412],\n",
              "        [0.11764706],\n",
              "        [0.11470588],\n",
              "        [0.09411765],\n",
              "        [0.13235294],\n",
              "        [0.11764706],\n",
              "        [0.10882353],\n",
              "        [0.11470588],\n",
              "        [0.07941176],\n",
              "        [0.12941176],\n",
              "        [0.10882353],\n",
              "        [0.11764706],\n",
              "        [0.10588235],\n",
              "        [0.09411765],\n",
              "        [0.09117647],\n",
              "        [0.08823529],\n",
              "        [0.09705882],\n",
              "        [0.11470588],\n",
              "        [0.12941176],\n",
              "        [0.1       ],\n",
              "        [0.12058824],\n",
              "        [0.10294118],\n",
              "        [0.11470588],\n",
              "        [0.12941176],\n",
              "        [0.1       ],\n",
              "        [0.11764706],\n",
              "        [0.11764706],\n",
              "        [0.09117647],\n",
              "        [0.12058824],\n",
              "        [0.09705882],\n",
              "        [0.09411765],\n",
              "        [0.11470588],\n",
              "        [0.09411765],\n",
              "        [0.11764706],\n",
              "        [0.10588235],\n",
              "        [0.11176471],\n",
              "        [0.10294118],\n",
              "        [0.11764706],\n",
              "        [0.10294118],\n",
              "        [0.08235294],\n",
              "        [0.09411765],\n",
              "        [0.1       ],\n",
              "        [0.12058824],\n",
              "        [0.07352941],\n",
              "        [0.09705882],\n",
              "        [0.12058824],\n",
              "        [0.09705882],\n",
              "        [0.09411765],\n",
              "        [0.12647059],\n",
              "        [0.13529412],\n",
              "        [0.09117647],\n",
              "        [0.11176471],\n",
              "        [0.08529412],\n",
              "        [0.11764706],\n",
              "        [0.10882353],\n",
              "        [0.08823529],\n",
              "        [0.09705882],\n",
              "        [0.11764706],\n",
              "        [0.09411765],\n",
              "        [0.11764706],\n",
              "        [0.08235294],\n",
              "        [0.10882353],\n",
              "        [0.09117647],\n",
              "        [0.10882353],\n",
              "        [0.11176471],\n",
              "        [0.12352941],\n",
              "        [0.10588235],\n",
              "        [0.12647059],\n",
              "        [0.08529412],\n",
              "        [0.12647059],\n",
              "        [0.10588235],\n",
              "        [0.10882353],\n",
              "        [0.1       ],\n",
              "        [0.11470588],\n",
              "        [0.12352941],\n",
              "        [0.09705882],\n",
              "        [0.09117647],\n",
              "        [0.12647059],\n",
              "        [0.10294118],\n",
              "        [0.10588235],\n",
              "        [0.11470588],\n",
              "        [0.09705882],\n",
              "        [0.09117647],\n",
              "        [0.10882353],\n",
              "        [0.10294118],\n",
              "        [0.09705882],\n",
              "        [0.09411765],\n",
              "        [0.09117647],\n",
              "        [0.09411765],\n",
              "        [0.08823529],\n",
              "        [0.1       ],\n",
              "        [0.09705882],\n",
              "        [0.11470588],\n",
              "        [0.08235294],\n",
              "        [0.10588235],\n",
              "        [0.10882353],\n",
              "        [0.11176471],\n",
              "        [0.12058824],\n",
              "        [0.12058824],\n",
              "        [0.10588235],\n",
              "        [0.1       ],\n",
              "        [0.13529412],\n",
              "        [0.09411765],\n",
              "        [0.09117647],\n",
              "        [0.1       ]]))"
            ]
          },
          "metadata": {
            "tags": []
          },
          "execution_count": 25
        }
      ]
    },
    {
      "cell_type": "code",
      "metadata": {
        "id": "K2mDhjzDTHxN",
        "colab_type": "code",
        "colab": {
          "base_uri": "https://localhost:8080/",
          "height": 35
        },
        "outputId": "863acaaf-8d89-41ef-881b-935b342dd16c"
      },
      "source": [
        "ndata, selected_areas = extract_areas(alldat, alldat_ST, session = 11)\n",
        "print(ndata.keys())\n",
        "full_pipeline(ndata, ('SUB', 'ACA'), synch_width = 5, jitter_width = 0.01, path = \"./drive/My Drive/spike/\")"
      ],
      "execution_count": 17,
      "outputs": [
        {
          "output_type": "stream",
          "text": [
            "dict_keys(['ACA', 'CA1', 'DG', 'LGd', 'LH', 'MD', 'MOs', 'PL', 'SUB', 'VISam', 'VISp', 'root'])\n"
          ],
          "name": "stdout"
        }
      ]
    },
    {
      "cell_type": "code",
      "metadata": {
        "id": "ERL0jguPGKLE",
        "colab_type": "code",
        "colab": {}
      },
      "source": [
        "# # @title PICKLE\n",
        "\n",
        "# import pickle\n",
        "\n",
        "# dogs_dict = { 'Ozzy': 3, 'Filou': 8, 'Luna': 5, 'Skippy': 10, 'Barco': 12, 'Balou': 9, 'Laika': 16 }\n",
        "\n",
        "\n",
        "# # with open(\"./drive/My Drive/spike/try\",'wb') as outfile:\n",
        "# #     pickle.dump(dogs_dict, outfile)\n",
        "\n",
        "# path = \"./drive/My Drive/spike/\"\n",
        "# with open(path+\"_try_{0}\".format(('a', 'b')),'wb') as outfile:\n",
        "#     pickle.dump(dogs_dict, outfile)\n"
      ],
      "execution_count": null,
      "outputs": []
    },
    {
      "cell_type": "code",
      "metadata": {
        "id": "t5L4IaKwCmtn",
        "colab_type": "code",
        "colab": {}
      },
      "source": [
        "with open('./drive/My Drive/spike/_binary', 'rb') as f:\n",
        "  sub_aca_binary = pickle.load(f)\n"
      ],
      "execution_count": 19,
      "outputs": []
    },
    {
      "cell_type": "code",
      "metadata": {
        "id": "tVmnwRLwDKTM",
        "colab_type": "code",
        "colab": {}
      },
      "source": [
        "sub_aca_connected = sub_aca_binary[('SUB', 'ACA')].sum()*100 / (sub_aca_binary[('SUB', 'ACA')].shape[0] * sub_aca_binary[('SUB', 'ACA')].shape[1])"
      ],
      "execution_count": 26,
      "outputs": []
    },
    {
      "cell_type": "code",
      "metadata": {
        "id": "b3SIKJOWDkEH",
        "colab_type": "code",
        "colab": {
          "base_uri": "https://localhost:8080/",
          "height": 35
        },
        "outputId": "024122a8-05b6-4884-b8b3-0602a310c334"
      },
      "source": [
        "sub_aca_connected"
      ],
      "execution_count": 27,
      "outputs": [
        {
          "output_type": "execute_result",
          "data": {
            "text/plain": [
              "0.8333333333333334"
            ]
          },
          "metadata": {
            "tags": []
          },
          "execution_count": 27
        }
      ]
    },
    {
      "cell_type": "code",
      "metadata": {
        "id": "tqnVajbdFVKz",
        "colab_type": "code",
        "colab": {}
      },
      "source": [
        ""
      ],
      "execution_count": null,
      "outputs": []
    }
  ]
}